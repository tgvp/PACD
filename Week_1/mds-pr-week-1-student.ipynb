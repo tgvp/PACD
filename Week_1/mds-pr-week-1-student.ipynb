{
 "cells": [
  {
   "cell_type": "markdown",
   "id": "56a28767",
   "metadata": {
    "id": "56a28767"
   },
   "source": [
    "# Week 1 — NumPy Foundations for Data Science\n",
    "\n",
    "**In this session we will cover** arrays, slicing (1D/2D/advanced), broadcasting, reshaping, axis ops, and a many exercises.\n",
    "\n",
    "This practical session is designed to prepare you for **Pandas, near future modelling input shapes, and feature engineering**.\n",
    "\n",
    "**Roadmap**\n",
    "\n",
    "0. Introduction — Why NumPy\n",
    "1. Arrays & Memory Model  \n",
    "   1.1 Python Lists vs NumPy Arrays  \n",
    "   1.2 Numpy Array Attributes\n",
    "   1.3 Creating NumPy Arrays\n",
    "2. Mastering Slicing & Indexing (Core for `.iloc` later)  \n",
    "   2.1 1D indexing and slicing  \n",
    "   2.2 2D slicing — rows, columns, blocks  \n",
    "3. Reshaping, Stacking, Concatenation\n",
    "4. Broadcasting\n",
    "5. Vectorization\n",
    "6. Axis Operations & Aggregations  \n",
    "7. Transposing\n",
    "8. Challenging Exercises\n",
    "9. Let's practice a bit more\n",
    "\n",
    "Appendix — NumPy Cheatsheet & Pitfalls\n"
   ]
  },
  {
   "cell_type": "markdown",
   "id": "43a3e80d",
   "metadata": {
    "id": "43a3e80d"
   },
   "source": [
    "## Introduction — Why NumPy\n",
    "NumPy is the numerical engine behind Pandas, SciPy, scikit‑learn, and deep learning frameworks. To build ML models or clean data effectively:\n",
    "- Think in **arrays** (not lists) and **shapes**.\n",
    "- Use **slicing** (prepares you for `.iloc`).\n",
    "- Prefer **broadcasting & vectorization** over loops.\n",
    "- Control **axis** semantics for aggregation.\n",
    "\n",
    "> We'll practice with clean, production‑like exercises to build intuition.\n",
    "\n",
    "> Let's get started with importing NumPy!\n"
   ]
  },
  {
   "cell_type": "code",
   "execution_count": 12,
   "id": "9980c306",
   "metadata": {
    "id": "9980c306"
   },
   "outputs": [],
   "source": [
    "import numpy as np\n",
    "import matplotlib.pyplot as plt\n",
    "np.set_printoptions(precision=3, suppress=True)"
   ]
  },
  {
   "cell_type": "markdown",
   "id": "94f62dbb",
   "metadata": {
    "id": "94f62dbb"
   },
   "source": [
    "## 1. Arrays & Memory Model"
   ]
  },
  {
   "cell_type": "markdown",
   "id": "a3fd7e11",
   "metadata": {
    "id": "a3fd7e11"
   },
   "source": [
    "### 1.1. Python Lists vs NumPy Arrays\n",
    "\n",
    "NumPy arrays store data in contiguous memory with a single `dtype`, enabling fast vectorized operations. This contrasts with Python lists, which can store elements of different types and are stored in a scattered manner in memory, leading to slower operations for numerical computations. This contiguous memory layout and uniform data type are key to NumPy's performance advantages."
   ]
  },
  {
   "cell_type": "code",
   "execution_count": null,
   "id": "eb49c7d4",
   "metadata": {
    "colab": {
     "base_uri": "https://localhost:8080/"
    },
    "id": "eb49c7d4",
    "outputId": "92a17dba-69e0-4963-8033-94de5fd31c41"
   },
   "outputs": [],
   "source": [
    "#lst = \n",
    "\n",
    "#arr = \n",
    "\n",
    "print(type(lst))\n",
    "print(type(arr))"
   ]
  },
  {
   "cell_type": "markdown",
   "id": "e4901715",
   "metadata": {
    "id": "e4901715"
   },
   "source": [
    "### 1.2. NumPy Array Attributes\n",
    "\n",
    "NumPy arrays have several important attributes that provide information about their structure and the data they hold. Some key attributes are:\n",
    "\n",
    "- `shape`: A tuple that indicates the size of the array along each dimension.\n",
    "- `dtype`: The data type of the elements in the array.\n",
    "- `ndim`: The number of dimensions (axes) of the array.\n",
    "- `size`: The total number of elements in the array."
   ]
  },
  {
   "cell_type": "code",
   "execution_count": null,
   "id": "e947ab2f",
   "metadata": {
    "colab": {
     "base_uri": "https://localhost:8080/"
    },
    "id": "e947ab2f",
    "outputId": "1a036d28-15de-4080-aa72-722e10cea449"
   },
   "outputs": [],
   "source": [
    "# thats how we create a 2d numpy array from scratch\n",
    "\n",
    "#arr = \n",
    "\n",
    "print(f'Array:\\n{arr}', end='\\n\\n')\n",
    "print(f'Shape: {arr.shape}', end='\\n\\n')\n",
    "print(f'Data type: {arr.dtype}', end='\\n\\n')\n",
    "print(f'Number of dimensions: {arr.ndim}', end='\\n\\n')\n",
    "print(f'Size: {arr.size}')"
   ]
  },
  {
   "cell_type": "markdown",
   "id": "822acd24",
   "metadata": {
    "id": "822acd24"
   },
   "source": [
    "### 1.3. Creating NumPy arrays\n",
    "Most of our exercises will include ways to generate NumPy arrays and matrices. some of those are presented below:\n",
    "\n",
    "`np.arange(start, stop, step)`: Creates an array with evenly spaced values within a given interval. It works similarly to Python's built-in `range()` function.\n",
    "\n",
    "- `start`: The beginning of the interval (optional, default is 0).\n",
    "- `stop`: The end of the interval (exclusive).\n",
    "- `step`: The spacing between values (optional, default is 1).\n",
    "\n",
    "**Examples**:\n",
    "\n",
    "- `np.arange(10)`: Generates an array `[0 1 2 3 4 5 6 7 8 9]`\n",
    "\n",
    "- `np.arange(2, 10, 2)`: Generates an array `[2 4 6 8]`"
   ]
  },
  {
   "cell_type": "code",
   "execution_count": null,
   "id": "axF2gHtFHt5k",
   "metadata": {
    "colab": {
     "base_uri": "https://localhost:8080/"
    },
    "id": "axF2gHtFHt5k",
    "outputId": "587d808b-1b74-475a-87f9-8275746ba909"
   },
   "outputs": [],
   "source": [
    "np.arange(10)"
   ]
  },
  {
   "cell_type": "markdown",
   "id": "7I3IijqYH52z",
   "metadata": {
    "id": "7I3IijqYH52z"
   },
   "source": [
    "**Try it too!**"
   ]
  },
  {
   "cell_type": "code",
   "execution_count": null,
   "id": "XWUpikTiH0LA",
   "metadata": {
    "id": "XWUpikTiH0LA"
   },
   "outputs": [],
   "source": [
    "# create a numpy array with [1, 2, 3] and print it\n"
   ]
  },
  {
   "cell_type": "code",
   "execution_count": null,
   "id": "TlrnGRcIJoc6",
   "metadata": {
    "id": "TlrnGRcIJoc6"
   },
   "outputs": [],
   "source": [
    "# create a numpy array with arange and print it\n"
   ]
  },
  {
   "cell_type": "markdown",
   "id": "f95b3d10",
   "metadata": {
    "id": "f95b3d10"
   },
   "source": [
    "Besides `np.arange` here are other common ways to create NumPy arrays:"
   ]
  },
  {
   "cell_type": "code",
   "execution_count": null,
   "id": "e2b5a572",
   "metadata": {
    "colab": {
     "base_uri": "https://localhost:8080/"
    },
    "id": "e2b5a572",
    "outputId": "6885828a-f51f-49bf-e7fc-592e6bd3c9b9"
   },
   "outputs": [],
   "source": [
    "# Create an array of zeros\n",
    "zeros_arr = np.zeros((3, 4))\n",
    "print(\"np.zeros((3, 4)):\\n\", zeros_arr)\n",
    "\n",
    "# Create an array of ones\n",
    "ones_arr = np.ones((2, 5))\n",
    "print(\"\\nnp.ones((2, 5)):\\n\", ones_arr)\n",
    "\n",
    "# Create an array filled with a specific value\n",
    "full_arr = np.full((4, 2), 7)\n",
    "print(\"\\nnp.full((4, 2), 7):\\n\", full_arr)\n",
    "\n",
    "# Create an identity matrix\n",
    "identity_arr = np.eye(5)\n",
    "print(\"\\nnp.eye(5):\\n\", identity_arr)\n",
    "\n",
    "# Create an array with evenly spaced values over a specified interval\n",
    "linspace_arr = np.linspace(0, 10, 5) # 5 values between 0 and 10 (inclusive)\n",
    "print(\"\\nnp.linspace(0, 10, 5):\\n\", linspace_arr)"
   ]
  },
  {
   "cell_type": "markdown",
   "id": "6313d9a7",
   "metadata": {
    "id": "6313d9a7"
   },
   "source": [
    "### Exercise 1.1 — Create & Inspect\n",
    "Create a 1D array with shape `(4, 5)` of values `0..19`. Print its `shape`, `dtype`, and `ndim`.\n"
   ]
  },
  {
   "cell_type": "code",
   "execution_count": null,
   "id": "0vQIx4UdKVmW",
   "metadata": {
    "id": "0vQIx4UdKVmW"
   },
   "outputs": [],
   "source": [
    "# your code here\n"
   ]
  },
  {
   "cell_type": "markdown",
   "id": "0302ab0e",
   "metadata": {
    "id": "0302ab0e"
   },
   "source": [
    "### 1.4. Reshape\n",
    "\n",
    "Reshaping allows you to change the dimensions of an array without changing the data it contains.\n",
    "\n",
    "**This is the combination of `np.arange()` and `reshape()` to create multi-dimensional arrays.**\n",
    "```python\n",
    "np.arange(12).reshape(3, 4)\n",
    "\n",
    ">>> array([[ 0,  1,  2,  3],\n",
    "           [ 4,  5,  6,  7],\n",
    "           [ 8,  9, 10, 11]])\n",
    "```\n",
    "\n",
    "**The number of elements in the array must match the product of the dimensions specified in `reshape()`.**"
   ]
  },
  {
   "cell_type": "markdown",
   "id": "dd565334",
   "metadata": {},
   "source": [
    "**Try it too!**"
   ]
  },
  {
   "cell_type": "code",
   "execution_count": null,
   "id": "ad75ac57",
   "metadata": {},
   "outputs": [],
   "source": [
    "# create a numpy array with arange and reshape it to (5,4) and print it\n"
   ]
  },
  {
   "cell_type": "code",
   "execution_count": null,
   "id": "b43d4f32",
   "metadata": {},
   "outputs": [],
   "source": [
    "# create a numpy array with arange and reshape it to (5, 4, 2) and print it\n"
   ]
  },
  {
   "cell_type": "markdown",
   "id": "74e22a22",
   "metadata": {
    "id": "74e22a22"
   },
   "source": [
    "### Exercise 1.2 — Reshape\n",
    "Create a 1D array using `np.arange` with 12 elements. Reshape it into a 2D array with shape (3, 4) and then reshape the 2D array into a 3D array with shape (2, 3, 2). Print the shape of each array after reshaping."
   ]
  },
  {
   "cell_type": "code",
   "execution_count": null,
   "id": "0ab0a0e0",
   "metadata": {
    "id": "0ab0a0e0"
   },
   "outputs": [],
   "source": [
    "# your code here\n"
   ]
  },
  {
   "cell_type": "code",
   "execution_count": null,
   "id": "df134320",
   "metadata": {
    "id": "df134320"
   },
   "outputs": [],
   "source": [
    "# your code here\n"
   ]
  },
  {
   "cell_type": "markdown",
   "id": "dd894faa",
   "metadata": {
    "id": "dd894faa"
   },
   "source": [
    "### 1.3. Typed arrays\n",
    "\n",
    "We can specify the data type of the elements in a NumPy array using the `dtype` parameter when creating the array. This is useful for optimizing memory usage and ensuring that the data is stored in the desired format.\n",
    "\n",
    "**Examples:**\n",
    "\n",
    "```python\n",
    "np.array([1, 2, 3], dtype=np.float32)\n",
    ">>> array([1., 2., 3.], dtype=float32)\n",
    "```\n",
    "\n",
    "```python\n",
    "np.arange(10, dtype=np.int16)\n",
    ">>> array([0, 1, 2, 3, 4, 5, 6, 7, 8, 9], dtype=int16)\n",
    "```\n",
    "### Exercise 1.1 — Typed arrays\n",
    "\n",
    "Create a float32 array of shape `(3, 3)` with values `0..8` and print its `dtype`\n"
   ]
  },
  {
   "cell_type": "code",
   "execution_count": null,
   "id": "74691ff5",
   "metadata": {},
   "outputs": [],
   "source": [
    "# your code here\n"
   ]
  },
  {
   "cell_type": "markdown",
   "id": "70921e8e",
   "metadata": {
    "id": "70921e8e"
   },
   "source": [
    "## 2. Mastering Slicing & Indexing (Core for `.iloc` later)"
   ]
  },
  {
   "cell_type": "markdown",
   "id": "6b32a71c",
   "metadata": {
    "id": "6b32a71c"
   },
   "source": [
    "### 2.1. 1D Indexing & Slicing\n",
    "Accessing elements or subsets of a 1D array is done using indexing and slicing.\n",
    "\n",
    "- **Indexing:** Use square brackets `[]` with an integer to access a single element.\n",
    "- **Slicing:** Use the colon `:` to specify a range of elements. The syntax is `[start:stop:step]`.\n",
    "    - `start`: The starting index (inclusive). If omitted, it defaults to the beginning of the array.\n",
    "    - `stop`: The ending index (exclusive). If omitted, it defaults to the end of the array.\n",
    "    - `step`: The step size between elements. If omitted, it defaults to 1.\n",
    "\n",
    "Negative indices count from the end of the array. For example, `[-1]` is the last element, `[-2]` is the second to last, and so on."
   ]
  },
  {
   "cell_type": "code",
   "execution_count": null,
   "id": "265fa286",
   "metadata": {
    "colab": {
     "base_uri": "https://localhost:8080/"
    },
    "id": "265fa286",
    "outputId": "618155c1-4772-4652-821c-77e0edd2bb6f"
   },
   "outputs": [],
   "source": [
    "# your code here\n"
   ]
  },
  {
   "cell_type": "markdown",
   "id": "baebc1cd",
   "metadata": {
    "id": "baebc1cd"
   },
   "source": [
    "### Exercise 2.1 — 1D slicing drills\n",
    "From `x = np.arange(20)`, produce:  \n",
    "a) `x` without the first and last 2 elements.  \n",
    "b) Elements at odd positions (1,3,5,...) using slicing.  \n",
    "c) Reverse `x`.\n"
   ]
  },
  {
   "cell_type": "code",
   "execution_count": null,
   "id": "782a91af",
   "metadata": {
    "id": "782a91af"
   },
   "outputs": [],
   "source": [
    "# your code here\n"
   ]
  },
  {
   "cell_type": "markdown",
   "id": "24d7b72e",
   "metadata": {
    "id": "24d7b72e"
   },
   "source": [
    "### 2.2. 2D Slicing — Rows, Columns, Blocks\n",
    "For 2D arrays (matrices), you use a comma to separate the slicing for each dimension (axis). The syntax is `[row_slice, column_slice]`.\n",
    "\n",
    "- To select a specific row, use the row index and a colon for the column slice (e.g., `M[2, :]` selects the third row).\n",
    "- To select a specific column, use a colon for the row slice and the column index (e.g., `M[:, 3]` selects the fourth column).\n",
    "- To select a block or submatrix, specify the slice for both rows and columns (e.g., `M[1:4, 1:4]` selects rows 1 to 3 and columns 1 to 3).\n",
    "- Use `:` by itself to select all elements along that axis."
   ]
  },
  {
   "cell_type": "code",
   "execution_count": null,
   "id": "fe9b49ab",
   "metadata": {
    "colab": {
     "base_uri": "https://localhost:8080/"
    },
    "id": "fe9b49ab",
    "outputId": "a83414c3-a848-429a-eec1-1ee19e8140c9"
   },
   "outputs": [],
   "source": [
    "M = np.arange(25).reshape(5,5)\n",
    "row2 = M[2,:]\n",
    "col3 = M[:,3]\n",
    "block = M[1:4, 1:4]\n",
    "row2, col3, block"
   ]
  },
  {
   "cell_type": "markdown",
   "id": "f013fc86",
   "metadata": {
    "id": "f013fc86"
   },
   "source": [
    "### Exercise 2.2 — Extract submatrices\n",
    "From `G = np.arange(49).reshape(7,7)`, extract:  \n",
    "a) Center 3×3 block.  \n",
    "b) Top‑left 2×4 block.  \n",
    "c) Last 3 rows and last 2 columns (as a block).\n"
   ]
  },
  {
   "cell_type": "code",
   "execution_count": null,
   "id": "ha_T4OovOPdd",
   "metadata": {
    "colab": {
     "base_uri": "https://localhost:8080/"
    },
    "id": "ha_T4OovOPdd",
    "outputId": "878df630-2217-4958-b08f-333c58c7e360"
   },
   "outputs": [],
   "source": [
    "G = np.arange(49).reshape(7,7)\n",
    "G"
   ]
  },
  {
   "cell_type": "code",
   "execution_count": null,
   "id": "bf3cb824",
   "metadata": {
    "id": "bf3cb824"
   },
   "outputs": [],
   "source": [
    "# your code here\n"
   ]
  },
  {
   "cell_type": "markdown",
   "id": "99809d8c",
   "metadata": {
    "id": "99809d8c"
   },
   "source": [
    "### Exercise 2.3 Steps, Negative Indices\n",
    "Use steps to subsample\n",
    "\n",
    "From `G = np.arange(36).reshape(6,6)`\n",
    "\n",
    "We want to obtain:\n",
    "\n",
    "````\n",
    "array([[ 5,  4,  3,  2,  1,  0],\n",
    "       [17, 16, 15, 14, 13, 12],\n",
    "       [29, 28, 27, 26, 25, 24]])\n",
    "````\n"
   ]
  },
  {
   "cell_type": "code",
   "execution_count": null,
   "id": "od1LNHB9QW94",
   "metadata": {
    "colab": {
     "base_uri": "https://localhost:8080/"
    },
    "id": "od1LNHB9QW94",
    "outputId": "4a575e27-32e9-468c-db0a-b29a84320b6f"
   },
   "outputs": [],
   "source": [
    "G = np.arange(36).reshape(6,6)\n",
    "G"
   ]
  },
  {
   "cell_type": "markdown",
   "id": "2a525294",
   "metadata": {},
   "source": [
    "## 3. Reshaping, Stacking, Concatenation\n",
    "\n",
    "Reshape, stacking and concatenation are powerful tools in NumPy that allow you to manipulate the structure of your arrays in various ways. Here are some common operations:\n",
    "\n",
    "- `arr.reshape(new_shape)`: Changes the shape of an array without changing its data. The new shape must be compatible with the original shape.\n",
    "- `np.vstack((arr1, arr2))`: Stacks arrays vertically (row-wise).\n",
    "- `np.hstack((arr1, arr2))`: Stacks arrays horizontally (column-wise).\n",
    "- `np.concatenate((arr1, arr2), axis=0 or 1)`: Joins a sequence of arrays along an existing axis.\n",
    "\n",
    "For example:\n",
    "\n",
    "```python\n",
    "A = np.array([[1, 2], [3, 4]])\n",
    "B = np.array([[5, 6], [7, 8]])\n",
    "C = np.vstack((A, B))  # Vertical stack\n",
    "D = np.hstack((A, B))  # Horizontal stack\n",
    "E = np.concatenate((A, B), axis=0)  # Concatenate along rows\n",
    "F = np.concatenate((A, B), axis=1)  # Concatenate along columns\n",
    "\n",
    "print(\"Vertical Stack:\\n\", C)\n",
    "print(\"Horizontal Stack:\\n\", D)\n",
    "print(\"Concatenate along rows:\\n\", E)\n",
    "print(\"Concatenate along columns:\\n\", F)\n",
    "```\n"
   ]
  },
  {
   "cell_type": "code",
   "execution_count": null,
   "id": "927854bd",
   "metadata": {},
   "outputs": [],
   "source": [
    "# check the result if each operation\n"
   ]
  },
  {
   "cell_type": "markdown",
   "id": "508242f4",
   "metadata": {},
   "source": [
    "### Exercise 3.1 — Reshape & Stack\n",
    "Create two 2D arrays `A` and `B` of shape `(2, 3)` with values `0..5` and `6..11` respectively.\n",
    "\n",
    "Stack them **vertically** and **horizontally**, and then **concatenate** them along both axes. Print the resulting arrays."
   ]
  },
  {
   "cell_type": "code",
   "execution_count": null,
   "id": "97e424d9",
   "metadata": {},
   "outputs": [],
   "source": [
    "# your code here\n"
   ]
  },
  {
   "cell_type": "markdown",
   "id": "25cf9926",
   "metadata": {},
   "source": [
    "## 4. Broadcasting\n",
    "\n",
    "Broadcasting is a powerful mechanism that allows NumPy to perform operations on arrays of different shapes in a way that makes sense mathematically. It works by \"stretching\" the smaller array across the larger one so that they have compatible shapes for element-wise operations.\n",
    "\n",
    "For example in a given numpy array `A` of shape `(3, 4)`, if you want to add a 1D array `b` of shape `(4,)` to each row of `A`, NumPy will automatically \"broadcast\" `b` across the rows of `A`. This means that `b` is treated as if it were repeated for each row, allowing the addition to be performed element-wise.\n",
    "\n",
    "**Note that `b` must have a shape that is compatible with `A` for broadcasting to work.**\n",
    "\n",
    "```python\n",
    "A = np.array([[1, 2, 3, 4],\n",
    "              [5, 6, 7, 8],\n",
    "              [9, 10, 11, 12]])\n",
    "\n",
    "b = np.array([10, 20, 30, 40])\n",
    "\n",
    "C = A + b\n",
    "\n",
    "print(C)\n",
    "\n",
    ">>> array([[11, 22, 33, 44],\n",
    "           [15, 26, 37, 48],\n",
    "           [19, 30, 41, 52]])\n",
    "```"
   ]
  },
  {
   "cell_type": "markdown",
   "id": "e2a02784",
   "metadata": {},
   "source": [
    "### Exercise 4.1 — Broadcasting drills\n",
    "\n",
    "Given a 2D array `M = np.array([[1, 2, 3], [4, 5, 6], [7, 8, 9]])`\n",
    "- a) Add `[10, 20, 30]` to each row of `M`.\n",
    "- b) Subtract `[1, 2, 3]` from each column of `M`.\n",
    "- c) Multiply each element of `M` by `2`."
   ]
  },
  {
   "cell_type": "code",
   "execution_count": null,
   "id": "e73e6a22",
   "metadata": {},
   "outputs": [],
   "source": [
    "# your code here\n"
   ]
  },
  {
   "cell_type": "markdown",
   "id": "c6064dbf",
   "metadata": {},
   "source": [
    "## 5. Vectorization\n",
    "\n",
    "Vectorization refers to the process of performing operations on entire arrays or large chunks of data at once, rather than using explicit loops to iterate over individual elements. This approach leverages optimized, low-level implementations in libraries like NumPy, which can lead to significant performance improvements.\n",
    "\n",
    "**Examples**:\n",
    "\n",
    "Given two 1D arrays:\n",
    "```python\n",
    "a = np.array([1, 2, 3])\n",
    "b = np.array([4, 5, 6])\n",
    "```\n",
    "- Element-wise sum\n",
    "    ```python\n",
    "    sum_ab = a + b  # array([5, 7, 9])\n",
    "    ```\n",
    "- Element-wise product\n",
    "    ```python\n",
    "    prod_ab = a * b  # array([ 4, 10, 18])\n",
    "    ```\n",
    "- Dot product\n",
    "    ```python\n",
    "        dot_ab = np.dot(a, b) # 32 -> this is equivalent to np.sum(a * b)\n",
    "    ```\n",
    "- Euclidean distance\n",
    "    ```python\n",
    "    euclidean_dist = np.linalg.norm(a - b)  # 5.196152422 -> this is equivalent to np.sqrt(np.sum((a - b) ** 2))\n",
    "    ```"
   ]
  },
  {
   "cell_type": "markdown",
   "id": "e8a435ba",
   "metadata": {},
   "source": [
    "### Exercise 5.1 — Vectorized operations\n",
    "\n",
    "Given two 1D arrays `a = np.array([1, 2, 3])` and `b = np.array([4, 5, 6])`, compute their:\n",
    "\n",
    "- a) Element-wise sum.\n",
    "- b) Element-wise product.\n",
    "- c) Dot product.\n",
    "- d) Euclidean distance between `a` and `b`."
   ]
  },
  {
   "cell_type": "code",
   "execution_count": null,
   "id": "570af5bc",
   "metadata": {},
   "outputs": [],
   "source": [
    "# your code here\n"
   ]
  },
  {
   "cell_type": "markdown",
   "id": "12dd6d07",
   "metadata": {
    "id": "12dd6d07"
   },
   "source": [
    "## 6 Axis Operations & Aggregations\n",
    "\n",
    "Many NumPy functions allow you to specify an `axis` parameter to control the direction of the operation. This is particularly useful for aggregations like sum, mean, max, etc.\n",
    "\n",
    "The best way to understand axis operations is to think of them in terms of rows and columns in a 2D array (matrix).\n",
    "\n",
    "### Exercise 6.1 — Axis sums\n",
    "Given a 2D array `M = np.arange(1, 13).reshape(3, 4)`, compute:  \n",
    "a) Sum of each column.  \n",
    "b) Sum of each row.\n",
    "\n",
    "Tips:\n",
    "- Use `np.sum()` function with the `axis` parameter to compute these sums along the desired axis."
   ]
  },
  {
   "cell_type": "code",
   "execution_count": null,
   "id": "592502d5",
   "metadata": {},
   "outputs": [],
   "source": [
    "# your code here\n"
   ]
  },
  {
   "cell_type": "markdown",
   "id": "448dec70",
   "metadata": {},
   "source": [
    "### Exercise 6.2 — Axis means\n",
    "Given a 2D array `M = np.arange(1, 13).reshape(3, 4)`, compute:  \n",
    "a) Mean of each column.  \n",
    "b) Mean of each row.\n",
    "\n",
    "Tips:\n",
    "- Use `np.sum()` and `np.mean()` functions with the `axis` parameter to compute these statistics along the desired axis."
   ]
  },
  {
   "cell_type": "code",
   "execution_count": null,
   "id": "870158ec",
   "metadata": {},
   "outputs": [],
   "source": [
    "# your code here\n"
   ]
  },
  {
   "cell_type": "markdown",
   "id": "b0e9c80c",
   "metadata": {},
   "source": [
    "### Exercise 6.3 — Axis max/min\n",
    "Given a 2D array `M = np.arange(1, 13).reshape(3, 4)`, compute:  \n",
    "a) Max of each column.  \n",
    "b) Min of each row.\n",
    "\n",
    "Tips:\n",
    "- Use `np.max()` and `np.min()` functions with the `axis` parameter to compute these statistics along the desired axis."
   ]
  },
  {
   "cell_type": "code",
   "execution_count": null,
   "id": "90e2a3f2",
   "metadata": {},
   "outputs": [],
   "source": [
    "# your code here\n"
   ]
  },
  {
   "cell_type": "markdown",
   "id": "92936d74",
   "metadata": {},
   "source": [
    "### Exercise 6.4 — Axis std/var\n",
    "Given a 2D array `M = np.array([[1, 2, 3], [4, 5, 6], [7, 8, 9]])`, compute:  \n",
    "a) Standard deviation of each column.\n",
    "b) Variance of each row.\n",
    "\n",
    "Tips:\n",
    "- Use `np.std()` and `np.var()` functions with the `axis` parameter to compute these statistics along the desired axis."
   ]
  },
  {
   "cell_type": "code",
   "execution_count": null,
   "id": "6fbafccd",
   "metadata": {},
   "outputs": [],
   "source": [
    "# your code here\n"
   ]
  },
  {
   "cell_type": "markdown",
   "id": "b68e450a",
   "metadata": {},
   "source": [
    "### Exercise 6.5 — Axis argmax/argmin\n",
    "\n",
    "`argmax` and `argmin` return the indices of the maximum and minimum values along a specified axis.\n",
    "\n",
    "Given a 2D array `M = np.array([[1, 3, 2], [4, 0, 6], [7, 5, 8]])`, compute:  \n",
    "a) Index of max in each column.  \n",
    "b) Index of min in each row.\n",
    "\n",
    "Tips:\n",
    "- Use `np.argmax()` and `np.argmin()` functions with the `axis` parameter to compute these indices along the desired axis."
   ]
  },
  {
   "cell_type": "code",
   "execution_count": null,
   "id": "5af3e32d",
   "metadata": {},
   "outputs": [],
   "source": [
    "# your code here\n"
   ]
  },
  {
   "cell_type": "markdown",
   "id": "b643194b",
   "metadata": {},
   "source": [
    "### Exercise 6.6 — Axis argwhere\n",
    "\n",
    "`argwhere` returns the indices of elements that satisfy a given condition.\n",
    "\n",
    "Given a 2D array `M = np.array([[1, 3, 2], [4, 0, 6], [7, 5, 8]])`, find the indices of all elements greater than 4.\n",
    "Tips:\n",
    "- Use `np.argwhere()` function to find the indices of elements that satisfy a given condition."
   ]
  },
  {
   "cell_type": "code",
   "execution_count": null,
   "id": "84b5849b",
   "metadata": {},
   "outputs": [],
   "source": [
    "# your code here\n"
   ]
  },
  {
   "cell_type": "markdown",
   "id": "b2f3e772",
   "metadata": {},
   "source": [
    "### Exercise 6.7 Sorting\n",
    "\n",
    "Sorting arrays is a common operation in data analysis. NumPy provides functions to sort arrays along specified axes.\n",
    "\n",
    "Sort the matrix along rows, columns and sort the whole matrix.\n",
    "Given a 2D array `M = np.array([[1, 3, 2], [4, 0, 6], [7, 5, 8]])`\n",
    "\n",
    "Tips:\n",
    "- Use `np.sort()` function with the `axis` parameter to sort the array along the desired axis.\n",
    "\n",
    "**Note: We can sort the whole matrix we by using `np.sort(M, axis=None)` but this will not preserve the original shape of the array, you might need to reshape it back to the original dimensions.**"
   ]
  },
  {
   "cell_type": "code",
   "execution_count": null,
   "id": "68de93e5",
   "metadata": {},
   "outputs": [],
   "source": [
    "# your code here\n"
   ]
  },
  {
   "cell_type": "markdown",
   "id": "6562cd30",
   "metadata": {},
   "source": [
    "## 7. Transposing\n",
    "\n",
    "Transposing and rotating arrays are common operations in data manipulation.\n",
    "\n",
    "Transposing an array involves swapping its rows and columns. In NumPy, this can be done using the `.T` attribute or the `np.transpose()` function.\n",
    "\n",
    "**For example**:\n",
    "\n",
    "```python\n",
    "H = np.arange(12).reshape(3,4)\n",
    "print(H)\n",
    "H_transposed = H.T\n",
    "print(H_transposed)\n",
    "\n",
    ">>> array([[ 0,  1,  2,  3],\n",
    "           [ 4,  5,  6,  7],\n",
    "           [ 8,  9, 10, 11]])\n",
    "\n",
    ">>> array([[ 0,  4,  8],\n",
    "           [ 1,  5,  9],\n",
    "           [ 2,  6, 10],\n",
    "           [ 3,  7, 11]])\n",
    "```\n",
    "\n",
    "\n",
    "### Exercise 7.1 — Transpose & Rotations  \n",
    "\n",
    "For `H = np.arange(9).reshape(3,3)`:\n",
    "\n",
    "- a) Compute `H.T`. Print it before and after transposing\n",
    "- b) Multiply `H x H.T`. Anything interesting here?"
   ]
  },
  {
   "cell_type": "code",
   "execution_count": null,
   "id": "6cd6a68e",
   "metadata": {},
   "outputs": [],
   "source": [
    "# your code here\n"
   ]
  },
  {
   "cell_type": "markdown",
   "id": "7cb72862",
   "metadata": {},
   "source": [
    "# 8. Challenging Exercises"
   ]
  },
  {
   "cell_type": "markdown",
   "id": "e4c2e341",
   "metadata": {
    "id": "e4c2e341"
   },
   "source": [
    "### Cosine Similarity\n",
    "\n",
    "Cosine similarity is a measure of similarity between two non-zero vectors of an inner product space.\n",
    "\n",
    "It is defined as the cosine of the angle between the two vectors, which can be computed using the dot product and the magnitudes (norms) of the vectors.\n",
    "\n",
    "$$\n",
    "\\text{cosine\\_similarity}(A, B) = \\frac{A \\cdot B}{\\|A\\| \\|B\\|}\n",
    "$$\n",
    "\n",
    "Where:\n",
    "\n",
    "$$\n",
    "\\|X\\| = \\sqrt{x_1^2 + x_2^2 + ... + x_n^2}\n",
    "$$\n",
    "\n",
    "### Exercise 8.1. Implement a function to compute the cosine similarity between two vectors.\n",
    "\n",
    "```python\n",
    "def cosine_similarity(A, B):\n",
    "    # Your code here\n",
    "    return similarity\n",
    "```\n",
    "**Example:**\n",
    "\n",
    "```python\n",
    "A = np.array([1, 2, 3])\n",
    "B = np.array([4, 5, 6])\n",
    "similarity = cosine_similarity(A, B)\n",
    "print(similarity)  # Output: 0.9746318461970762\n",
    "```"
   ]
  },
  {
   "cell_type": "code",
   "execution_count": null,
   "id": "f7c0f36a",
   "metadata": {
    "id": "f7c0f36a"
   },
   "outputs": [],
   "source": [
    "# your code here\n"
   ]
  },
  {
   "cell_type": "markdown",
   "id": "024076ed",
   "metadata": {},
   "source": [
    "### Exercise 8.2. Extend the `Exercise 7.1` function to compute the cosine similarity matrix for a set of vectors, where each entry (i, j) in the matrix represents the cosine similarity between vector i and vector j.\n",
    "\n",
    "```python\n",
    "def cosine_similarity_matrix(vectors):\n",
    "    # Your code here\n",
    "    return similarity_matrix\n",
    "```\n",
    "**Example:**\n",
    "\n",
    "```python\n",
    "    A = np.array([[1, 2, 3], [4, 5, 6], [7, 8, 9]])\n",
    "    similarity_matrix = cosine_similarity_matrix(A)\n",
    "    print(similarity_matrix)\n",
    "    # Output:\n",
    "    # [[1.         0.97463185 0.95941195]\n",
    "    #  [0.97463185 1.         0.99819089]\n",
    "    #  [0.95941195 0.99819089 1.        ]]\n",
    "```"
   ]
  },
  {
   "cell_type": "code",
   "execution_count": null,
   "id": "22ec1364",
   "metadata": {},
   "outputs": [],
   "source": [
    "# your code here\n"
   ]
  },
  {
   "cell_type": "markdown",
   "id": "a00b37d7",
   "metadata": {
    "id": "a00b37d7"
   },
   "source": [
    "### Z-score normalization\n",
    "\n",
    "Z-score normalization (or standardization) is a technique used to standardize the features of a dataset. It transforms the data such that the mean of each feature becomes 0 and the standard deviation becomes 1.\n",
    "\n",
    "This is particularly useful in algorithms that are sensitive to the scale of the input data.\n",
    "\n",
    "**Algorithm:**\n",
    "1. Compute the mean of each column in the dataset.\n",
    "2. Compute the standard deviation of each column in the dataset.\n",
    "3. Subtract the mean from each value and divide by the standard deviation for each column.\n",
    "\n",
    "### Exercise 8.3. Implement a function `zscore(X)` returning column‑wise standardized data (mean≈0, std≈1).\n",
    "\n",
    "```python\n",
    "def zscore(X):\n",
    "    # Your code here\n",
    "    return standardized_X\n",
    "```\n",
    "\n",
    "**Example:**\n",
    "\n",
    "```python\n",
    "X = np.array([[1, 2, 3], [4, 5, 6], [7, 8, 9]])\n",
    "standardized_X = zscore(X)\n",
    "print(standardized_X)\n",
    "# Output:\n",
    "# [[-1.22474487 -1.22474487 -1.22474487]\n",
    "#  [ 0.          0.          0.        ]\n",
    "#  [ 1.22474487  1.22474487  1.22474487]]\n",
    "```"
   ]
  },
  {
   "cell_type": "code",
   "execution_count": null,
   "id": "a7163dd9",
   "metadata": {
    "id": "a7163dd9"
   },
   "outputs": [],
   "source": [
    "# your code here\n"
   ]
  },
  {
   "cell_type": "markdown",
   "id": "33d15cf1",
   "metadata": {},
   "source": [
    "## 9. Let's practice a bit more"
   ]
  },
  {
   "cell_type": "markdown",
   "id": "d757b284",
   "metadata": {},
   "source": [
    "**R1 — Creation**\n",
    "a) Create an `int32` array with values `0..35` and reshape to `(5, 3, 2)`.  \n",
    "b) Print `shape`, `ndim`, `dtype`, `size`.  \n"
   ]
  },
  {
   "cell_type": "code",
   "execution_count": null,
   "id": "a1bce73f",
   "metadata": {},
   "outputs": [],
   "source": [
    "# your code here\n"
   ]
  },
  {
   "cell_type": "markdown",
   "id": "bcf3f742",
   "metadata": {},
   "source": [
    "**R2 — Dtypes & Itemsize**  \n",
    "Create a `(4, 4)` array of `float32` numbers and print the `dtype` and `itemsize`.  \n"
   ]
  },
  {
   "cell_type": "code",
   "execution_count": null,
   "id": "ded3f1dd",
   "metadata": {},
   "outputs": [],
   "source": [
    "# your code here\n"
   ]
  },
  {
   "cell_type": "markdown",
   "id": "9856fa9f",
   "metadata": {},
   "source": [
    "**R3 — Row/Column Sums via Slicing**  \n",
    "Given `A = np.arange(36).reshape(6,6)`, compute:  \n",
    "a) The sum of **rows 1..3** (inclusive).  \n",
    "b) The sum of **columns 2..5** (inclusive).  \n",
    "> *Tip:* Use `A[1:4, :]` and `A[:, 2:6]` then `.sum(axis=...)`.\n"
   ]
  },
  {
   "cell_type": "code",
   "execution_count": null,
   "id": "ee858ec0",
   "metadata": {},
   "outputs": [],
   "source": [
    "# your code here\n"
   ]
  },
  {
   "cell_type": "markdown",
   "id": "637f4940",
   "metadata": {},
   "source": [
    "**R4 — Stats on Specific Columns**  \n",
    "Create `B = np.random.default_rng(0).normal(size=(200,4))`. Compute the **mean**, **median**, and **std** of **column 2** only (0-based).  \n"
   ]
  },
  {
   "cell_type": "code",
   "execution_count": null,
   "id": "7cb83bd3",
   "metadata": {},
   "outputs": [],
   "source": [
    "# your code here\n"
   ]
  },
  {
   "cell_type": "markdown",
   "id": "f582d7fa",
   "metadata": {},
   "source": [
    "**R5 - Create a numpy array with `15 elements`, reshape it to `(3, 5)` and obtain the `sum` of the last column.**\n",
    "\n",
    "**Tip**: use `np.sum()`\n",
    "\n",
    "**Example**:\n",
    "```python\n",
    "arr = np.array([1, 2, 3])\n",
    "np.sum(arr)\n",
    "\n",
    ">>> 6\n",
    "```"
   ]
  },
  {
   "cell_type": "code",
   "execution_count": null,
   "id": "5f6b32ff",
   "metadata": {},
   "outputs": [],
   "source": [
    "# your code here\n"
   ]
  },
  {
   "cell_type": "markdown",
   "id": "1e2e7433",
   "metadata": {},
   "source": [
    "**R6 — Create a numpy array with `15 elements`, reshape it to `(5, 3)` and obtain the `mean` of the column in the middle**\n",
    "\n",
    "**Tip**: use `np.mean()`\n",
    "\n",
    "**Example**:\n",
    "```python\n",
    "arr = np.array([1, 2, 3])\n",
    "np.mean(arr)\n",
    "\n",
    ">>> 2\n",
    "```"
   ]
  },
  {
   "cell_type": "code",
   "execution_count": null,
   "id": "fa634221",
   "metadata": {},
   "outputs": [],
   "source": [
    "# your code here\n"
   ]
  },
  {
   "cell_type": "markdown",
   "id": "3313fb92",
   "metadata": {},
   "source": [
    "**R7 — From `G = np.arange(64).reshape(8,8)`, extract**:  \n",
    "a) Top-left `3×3` block.  \n",
    "b) Center `4×4` block.  \n",
    "c) Bottom-right `2×5` block.  \n"
   ]
  },
  {
   "cell_type": "code",
   "execution_count": null,
   "id": "608a8072",
   "metadata": {},
   "outputs": [],
   "source": [
    "# your code here\n"
   ]
  },
  {
   "cell_type": "markdown",
   "id": "c1614c50",
   "metadata": {},
   "source": [
    "**R8 — For `H = np.arange(16).reshape(4,4)`, obtain the symetric matrix**:\n"
   ]
  },
  {
   "cell_type": "code",
   "execution_count": null,
   "id": "9d130801",
   "metadata": {},
   "outputs": [],
   "source": [
    "# your code here\n"
   ]
  },
  {
   "cell_type": "markdown",
   "id": "14abf980",
   "metadata": {},
   "source": [
    "**R9 — Column Standardization**  \n",
    "Create `an array of shape (300, 3)` from a normal RNG using `np.random.default_rng().normal(size=(300, 3))` and standardize **each column** to mean≈0 using broadcasting.\n",
    "\n",
    "> Tip: To to normalize each column to mean≈0 using broadcasting you need to subtract the mean of each column from the respective column values. In other words, if `X` is your array, you can compute the mean of each column using `X.mean(axis=0)` and then subtract this mean from `X` to standardize the columns."
   ]
  },
  {
   "cell_type": "code",
   "execution_count": null,
   "id": "766ba3be",
   "metadata": {},
   "outputs": [],
   "source": [
    "# your code here\n"
   ]
  },
  {
   "cell_type": "markdown",
   "id": "6be65800",
   "metadata": {},
   "source": [
    "**R10 — Given `P (120×2)` and `Q (120×1)`, stack side-by-side to shape `(120,3)`**."
   ]
  },
  {
   "cell_type": "code",
   "execution_count": null,
   "id": "6e790f7d",
   "metadata": {},
   "outputs": [],
   "source": [
    "# your code here\n"
   ]
  },
  {
   "cell_type": "markdown",
   "id": "a18cc59b",
   "metadata": {},
   "source": [
    "**R11 — For `S = np.arange(100).reshape(10,10)`, compute**:\n",
    "- a) Mean of **rows 2..6**.  \n",
    "- b) Median of **columns 4..9**.  \n",
    "- c) Std of the **center 4×4** block."
   ]
  },
  {
   "cell_type": "code",
   "execution_count": null,
   "id": "e7d5549b",
   "metadata": {},
   "outputs": [],
   "source": [
    "# your code here\n"
   ]
  },
  {
   "cell_type": "markdown",
   "id": "df0ea30a",
   "metadata": {},
   "source": [
    "## Extra Challenge\n",
    "We will create a small **synthetic RGB image** (NumPy array) to practice a few operations we have already learned mirroring tasks in image preprocessing."
   ]
  },
  {
   "cell_type": "code",
   "execution_count": 13,
   "id": "27034e13",
   "metadata": {},
   "outputs": [
    {
     "data": {
      "image/png": "[encoded data removed]",
      "text/plain": [
       "<Figure size 500x300 with 1 Axes>"
      ]
     },
     "metadata": {},
     "output_type": "display_data"
    }
   ],
   "source": [
    "import numpy as np\n",
    "import matplotlib.pyplot as plt\n",
    "\n",
    "def make_synthetic_rgb(h=120, w=160, seed=0):\n",
    "    rng = np.random.default_rng(seed)\n",
    "    img = np.zeros((h, w, 3), dtype=np.uint8)\n",
    "    # gradient in R channel\n",
    "    img[..., 0] = np.clip(np.linspace(0, 255, w).astype(np.uint8)[None, :], 0, 255)\n",
    "    # vertical stripes in G\n",
    "    img[..., 1] = ((np.arange(h)[:, None] % 20) * 12).astype(np.uint8)\n",
    "    # random speckles in B\n",
    "    img[..., 2] = rng.integers(0, 255, size=(h, w), dtype=np.uint8)\n",
    "    # draw a solid rectangle in the center\n",
    "    ch, cw = h//2, w//2\n",
    "    img[ch-15:ch+15, cw-30:cw+30, :] = [255, 128, 0]\n",
    "    return img\n",
    "\n",
    "IMG = make_synthetic_rgb()\n",
    "plt.figure(figsize=(5,3))\n",
    "plt.imshow(IMG)\n",
    "plt.title(\"Synthetic RGB Image (H,W,3)\")\n",
    "plt.axis('off')\n",
    "plt.show()"
   ]
  },
  {
   "cell_type": "markdown",
   "id": "631735f9",
   "metadata": {},
   "source": [
    "This is the image as a `numpy.array` "
   ]
  },
  {
   "cell_type": "code",
   "execution_count": 14,
   "id": "505a0680",
   "metadata": {},
   "outputs": [
    {
     "data": {
      "text/plain": [
       "array([[[  0,   0,  94],\n",
       "        [  1,   0, 129],\n",
       "        [  3,   0, 193],\n",
       "        ...,\n",
       "        [251,   0, 107],\n",
       "        [253,   0,  11],\n",
       "        [255,   0, 162]],\n",
       "\n",
       "       [[  0,  12,  57],\n",
       "        [  1,  12, 102],\n",
       "        [  3,  12,  60],\n",
       "        ...,\n",
       "        [251,  12,  90],\n",
       "        [253,  12, 208],\n",
       "        [255,  12, 164]],\n",
       "\n",
       "       [[  0,  24,  55],\n",
       "        [  1,  24, 171],\n",
       "        [  3,  24, 106],\n",
       "        ...,\n",
       "        [251,  24, 170],\n",
       "        [253,  24, 182],\n",
       "        [255,  24, 240]],\n",
       "\n",
       "       ...,\n",
       "\n",
       "       [[  0, 204,  72],\n",
       "        [  1, 204,  81],\n",
       "        [  3, 204,  88],\n",
       "        ...,\n",
       "        [251, 204, 241],\n",
       "        [253, 204,  94],\n",
       "        [255, 204, 231]],\n",
       "\n",
       "       [[  0, 216,  51],\n",
       "        [  1, 216,  95],\n",
       "        [  3, 216,  21],\n",
       "        ...,\n",
       "        [251, 216,  65],\n",
       "        [253, 216, 139],\n",
       "        [255, 216,  75]],\n",
       "\n",
       "       [[  0, 228, 201],\n",
       "        [  1, 228,  92],\n",
       "        [  3, 228, 247],\n",
       "        ...,\n",
       "        [251, 228, 244],\n",
       "        [253, 228, 245],\n",
       "        [255, 228,  40]]], dtype=uint8)"
      ]
     },
     "execution_count": 14,
     "metadata": {},
     "output_type": "execute_result"
    }
   ],
   "source": [
    "IMG"
   ]
  },
  {
   "cell_type": "markdown",
   "id": "f62e865d",
   "metadata": {},
   "source": [
    "**R12 — Basic Image Information**\n",
    "\n",
    "a) What is the `shape` of `IMG`?  \n",
    "b) How many rows, columns, and color channels does it have?"
   ]
  },
  {
   "cell_type": "code",
   "execution_count": null,
   "id": "19f6796e",
   "metadata": {},
   "outputs": [],
   "source": [
    "# your code here\n"
   ]
  },
  {
   "cell_type": "markdown",
   "id": "24eb1d03",
   "metadata": {},
   "source": [
    "**R13 — Inspect a Specific Pixel**\n",
    "\n",
    "Access the pixel at the **center** of the image and print its RGB values.\n",
    "\n",
    "**Tip:** Use indexing like `IMG[row, col]`"
   ]
  },
  {
   "cell_type": "code",
   "execution_count": null,
   "id": "d0d7a49a",
   "metadata": {},
   "outputs": [],
   "source": [
    "# your code here\n"
   ]
  },
  {
   "cell_type": "markdown",
   "id": "5208bd20",
   "metadata": {},
   "source": [
    "**R14 — Separate Color Channels**\n",
    "\n",
    "Create three arrays:\n",
    "```python\n",
    "R = IMG[..., 0]\n",
    "G = IMG[..., 1]\n",
    "B = IMG[..., 2]\n",
    "```\n",
    "\n",
    "Now visualize `plt.imgshow(R)`, `plt.imgshow(G)` and `plt.imgshow(B)`"
   ]
  },
  {
   "cell_type": "code",
   "execution_count": null,
   "id": "9de8e3bd",
   "metadata": {},
   "outputs": [],
   "source": [
    "# your code here\n"
   ]
  },
  {
   "cell_type": "markdown",
   "id": "f88ebd06",
   "metadata": {},
   "source": [
    "**R15 — Transpose the matrix and use `plt.imshow(transposed)`:**\n",
    "\n",
    "- a) Any visual change?\n",
    "- b) what happened to the **width** and **height**?"
   ]
  },
  {
   "cell_type": "code",
   "execution_count": null,
   "id": "fdfaef93",
   "metadata": {},
   "outputs": [],
   "source": [
    "# your code here\n"
   ]
  },
  {
   "cell_type": "markdown",
   "id": "18aa681f",
   "metadata": {},
   "source": [
    "**R16 — Create a copy of `IMG` and set one channel to zero:**\n",
    "\n",
    "```python\n",
    "copy_img = IMG.copy()\n",
    "copy_img[\"select all columns and all rows\", \"0, 1 or 2\"] = 0\n",
    "plt.imshow(copy_img)\n",
    "```\n",
    "\n",
    "**Which colors dominate now?**"
   ]
  },
  {
   "cell_type": "code",
   "execution_count": null,
   "id": "9a525ef2",
   "metadata": {},
   "outputs": [],
   "source": [
    "# your code here\n"
   ]
  },
  {
   "cell_type": "markdown",
   "id": "100c126b",
   "metadata": {},
   "source": [
    "## Appendix — NumPy Cheatsheet & Pitfalls\n",
    "**Cheatsheet**\n",
    "- Creation: `np.array`, `np.arange`, `np.linspace`, `np.zeros`, `np.ones`, `np.eye`\n",
    "- Types: `arr.dtype`, cast with `arr.astype(...)`, `arr.itemsize`\n",
    "- Shapes: `arr.shape`, `arr.ndim`, `arr.size`, `arr.reshape`, `arr.ravel`\n",
    "- Indexing: `arr[i,j]`, slices (`start:stop:step`), fancy indexing\n",
    "- Stacking: `np.vstack`, `np.hstack`, `np.concatenate([...], axis=...)`\n",
    "- Aggregations: `mean`, `std`, `sum`, `max`, `argmax` with `axis=`\n",
    "- Linear algebra: `np.dot`, `@`, `np.linalg.norm`\n",
    "\n",
    "**Pitfalls**\n",
    "- Slices are **views** (mutations reflect upstream). Fancy indexing creates **copies**.\n",
    "- Beware of shape mismatches in broadcasting; add axes with `None/np.newaxis`.\n",
    "- **Keep track of shapes between steps; print shapes often**\n"
   ]
  },
  {
   "cell_type": "markdown",
   "id": "1b7bcd89",
   "metadata": {},
   "source": []
  }
 ],
 "metadata": {
  "colab": {
   "provenance": []
  },
  "kernelspec": {
   "display_name": "base",
   "language": "python",
   "name": "python3"
  },
  "language_info": {
   "codemirror_mode": {
    "name": "ipython",
    "version": 3
   },
   "file_extension": ".py",
   "mimetype": "text/x-python",
   "name": "python",
   "nbconvert_exporter": "python",
   "pygments_lexer": "ipython3",
   "version": "3.13.5"
  }
 },
 "nbformat": 4,
 "nbformat_minor": 5
}
